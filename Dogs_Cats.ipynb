{
  "nbformat": 4,
  "nbformat_minor": 0,
  "metadata": {
    "colab": {
      "provenance": []
    },
    "kernelspec": {
      "name": "python3",
      "display_name": "Python 3"
    },
    "language_info": {
      "name": "python"
    }
  },
  "cells": [
    {
      "cell_type": "code",
      "source": [
        "import numpy as np # linear algebra\n",
        "import pandas as pd # data processing, CSV file I/O (e.g. pd.read_csv)\n",
        "import os\n",
        "import zipfile\n",
        "import random\n",
        "import shutil\n",
        "import tensorflow as tf\n",
        "from tensorflow.keras.preprocessing.image import ImageDataGenerator\n",
        "from shutil import copyfile\n",
        "import matplotlib.pyplot as plt\n",
        "# Input data files are available in the read-only \"../input/\" directory\n",
        "# For example, running this (by clicking run or pressing Shift+Enter) will list all files under the input directory\n",
        "\n",
        "import os\n",
        "#for dirname, _, filenames in os.walk('/kaggle/input'):\n",
        "    #for filename in filenames:\n",
        "        #print(os.path.join(dirname, filename))"
      ],
      "metadata": {
        "id": "ciRiDCssjO5a"
      },
      "execution_count": 12,
      "outputs": []
    },
    {
      "cell_type": "code",
      "source": [
        "from google.colab import drive\n",
        "drive.mount('/content/drive/')"
      ],
      "metadata": {
        "colab": {
          "base_uri": "https://localhost:8080/"
        },
        "id": "YkvnrydcjU6X",
        "outputId": "b8152ba1-9107-41c2-a918-7509a13e85fb"
      },
      "execution_count": 13,
      "outputs": [
        {
          "output_type": "stream",
          "name": "stdout",
          "text": [
            "Drive already mounted at /content/drive/; to attempt to forcibly remount, call drive.mount(\"/content/drive/\", force_remount=True).\n"
          ]
        }
      ]
    },
    {
      "cell_type": "code",
      "source": [
        "source_path = '/content/drive/MyDrive/PetImages'\n",
        "\n",
        "source_path_dogs = os.path.join(source_path, 'Dog')\n",
        "source_path_cats = os.path.join(source_path, 'Cat')\n",
        "\n",
        "# Delete all non-image files \n",
        "!find /kaggle/working/microsoft-catsvsdogs-dataset/PetImages/ -type f ! -name \"*.jpg\" -exec rm {} +\n",
        "\n",
        "# Lets see how many files we have under each path\n",
        "print(f\"There are {len(os.listdir(source_path_dogs))} images of dogs.\")\n",
        "print(f\"There are {len(os.listdir(source_path_cats))} images of cats.\")\n",
        "# There are 12500 images of dogs.\n",
        "# There are 12500 images of cats."
      ],
      "metadata": {
        "colab": {
          "base_uri": "https://localhost:8080/"
        },
        "id": "bHb0DVXejffm",
        "outputId": "af5c4e62-890f-43e1-8159-d6697c6606a8"
      },
      "execution_count": 14,
      "outputs": [
        {
          "output_type": "stream",
          "name": "stdout",
          "text": [
            "find: ‘/kaggle/working/microsoft-catsvsdogs-dataset/PetImages/’: No such file or directory\n",
            "There are 12501 images of dogs.\n",
            "There are 5053 images of cats.\n"
          ]
        }
      ]
    },
    {
      "cell_type": "code",
      "source": [
        "###This section creates respective folders which is going to be used later by ImageDataGenerator###\n",
        "\n",
        "#This will be our root directory for training and validation data\n",
        "root_dir = '/kaggle/working/microsoft-catsvsdogs-dataset/cats-v-dogs'\n",
        "# Empty directory to prevent FileExistsError if this piece of code is run several times\n",
        "if os.path.exists(root_dir):\n",
        "    shutil.rmtree(root_dir)\n",
        "\n",
        "#Make a training folder inside our root_dir\n",
        "train_dir = os.path.join(root_dir, 'training')\n",
        "os.makedirs(train_dir)\n",
        "#Make a validation folder inside our root_dir\n",
        "validation_dir = os.path.join(root_dir, 'validation')\n",
        "os.makedirs(validation_dir)\n",
        "\n",
        "# Directory with training cat/dog pictures\n",
        "train_cats_dir = os.path.join(train_dir, 'cats')\n",
        "os.makedirs(train_cats_dir)\n",
        "train_dogs_dir = os.path.join(train_dir, 'dogs')\n",
        "os.makedirs(train_dogs_dir)\n",
        "\n",
        "# Directory with validation cat/dog pictures\n",
        "validation_cats_dir = os.path.join(validation_dir, 'cats')\n",
        "os.makedirs(validation_cats_dir)\n",
        "validation_dogs_dir = os.path.join(validation_dir, 'dogs')\n",
        "os.makedirs(validation_dogs_dir)"
      ],
      "metadata": {
        "id": "QdMXITG8j8j-"
      },
      "execution_count": 15,
      "outputs": []
    },
    {
      "cell_type": "code",
      "source": [
        "###In this section we are going to split our data into test and validation sets.\n",
        "#We define a function which will later be called for cats and dogs seperately\n",
        "def split_data(SOURCE_DIR, TRAINING_DIR, VALIDATION_DIR):\n",
        "    #Get a list of all the file names\n",
        "    images = list(file for file in os.listdir(SOURCE_DIR) if os.path.isfile(os.path.join(SOURCE_DIR, file)))\n",
        "    for file in images:\n",
        "        #Check to see if the file size is zero, then ignore those\n",
        "        if os.path.getsize(os.path.join(SOURCE_DIR, file)) == 0:\n",
        "            print(file,' is zero length, so ignoring.')\n",
        "            images.remove(file)\n",
        "    #Now that we have our image filenames, we randomly shuffle them to be used for validation and training\n",
        "    images = random.sample(images, len(images))\n",
        "    #In this section, I decided to split data with the following ratio: 10% validation data, 90% training data. I first populate validation data \n",
        "    for i in range(len(images)):\n",
        "        if i < len(images) *(0.1) :\n",
        "            copyfile(os.path.join(SOURCE_DIR, images[i]), os.path.join(VALIDATION_DIR, images[i]))\n",
        "        else:\n",
        "            copyfile(os.path.join(SOURCE_DIR, images[i]), os.path.join(TRAINING_DIR, images[i]))"
      ],
      "metadata": {
        "id": "N-4itQaEkA-9"
      },
      "execution_count": 16,
      "outputs": []
    },
    {
      "cell_type": "code",
      "source": [
        "# Define paths\n",
        "CAT_SOURCE_DIR = \"/content/drive/MyDrive/PetImages/Cat\"\n",
        "DOG_SOURCE_DIR = \"/content/drive/MyDrive/PetImages/Cat\"\n",
        "\n",
        "TRAINING_DIR = \"/kaggle/working/microsoft-catsvsdogs-dataset/cats-v-dogs/training\"\n",
        "VALIDATION_DIR = \"/kaggle/working/microsoft-catsvsdogs-dataset/cats-v-dogs/validation\"\n",
        "\n",
        "TRAINING_CATS_DIR = os.path.join(TRAINING_DIR, \"cats/\")\n",
        "VALIDATION_CATS_DIR = os.path.join(VALIDATION_DIR, \"cats/\")\n",
        "\n",
        "TRAINING_DOGS_DIR = os.path.join(TRAINING_DIR, \"dogs/\")\n",
        "VALIDATION_DOGS_DIR = os.path.join(VALIDATION_DIR, \"dogs/\")\n",
        "\n",
        "# Empty directories in case you run this cell multiple times\n",
        "if len(os.listdir(TRAINING_CATS_DIR)) > 0:\n",
        "    for file in os.scandir(TRAINING_CATS_DIR):\n",
        "        os.remove(file.path)\n",
        "if len(os.listdir(TRAINING_DOGS_DIR)) > 0:\n",
        "    for file in os.scandir(TRAINING_DOGS_DIR):\n",
        "        os.remove(file.path)\n",
        "if len(os.listdir(VALIDATION_CATS_DIR)) > 0:\n",
        "    for file in os.scandir(VALIDATION_CATS_DIR):\n",
        "        os.remove(file.path)\n",
        "if len(os.listdir(VALIDATION_DOGS_DIR)) > 0:\n",
        "    for file in os.scandir(VALIDATION_DOGS_DIR):\n",
        "        os.remove(file.path)\n",
        "\n",
        "\n",
        "# Run the function\n",
        "split_data(CAT_SOURCE_DIR, TRAINING_CATS_DIR, VALIDATION_CATS_DIR)\n",
        "split_data(DOG_SOURCE_DIR, TRAINING_DOGS_DIR, VALIDATION_DOGS_DIR)\n",
        "\n",
        "print(f\"\\n\\nOriginal cat's directory has {len(os.listdir(CAT_SOURCE_DIR))} images\")\n",
        "print(f\"Original dog's directory has {len(os.listdir(DOG_SOURCE_DIR))} images\\n\")\n",
        "\n",
        "# Training and validation splits\n",
        "print(f\"There are {len(os.listdir(TRAINING_CATS_DIR))} images of cats for training\")\n",
        "print(f\"There are {len(os.listdir(TRAINING_DOGS_DIR))} images of dogs for training\")\n",
        "print(f\"There are {len(os.listdir(VALIDATION_CATS_DIR))} images of cats for validation\")\n",
        "print(f\"There are {len(os.listdir(VALIDATION_DOGS_DIR))} images of dogs for validation\")"
      ],
      "metadata": {
        "colab": {
          "base_uri": "https://localhost:8080/"
        },
        "id": "pisBhKYxkGT7",
        "outputId": "f4b38b22-a1c7-4621-a479-dad189087a2c"
      },
      "execution_count": 17,
      "outputs": [
        {
          "output_type": "stream",
          "name": "stdout",
          "text": [
            "\n",
            "\n",
            "Original cat's directory has 5231 images\n",
            "Original dog's directory has 5231 images\n",
            "\n",
            "There are 4575 images of cats for training\n",
            "There are 4680 images of dogs for training\n",
            "There are 509 images of cats for validation\n",
            "There are 521 images of dogs for validation\n"
          ]
        }
      ]
    },
    {
      "cell_type": "code",
      "source": [
        "# After successfully organizing and splitting the data into training and validation sets in their respective folders, it is time for to code the  ImageDataGenerator that will yield batches of images. \n",
        "\n",
        "#Images in this dataset are of different sizes, that is why we use  parameter target_size for 'flow_from_directory' method to standarize \n",
        "\n",
        "def train_val_generators(TRAINING_DIR, VALIDATION_DIR):\n",
        "\n",
        "  # Instantiate the ImageDataGenerator class \n",
        "    train_datagen = ImageDataGenerator( rescale = 1.0/255. ) \n",
        "    train_generator = train_datagen.flow_from_directory(directory=TRAINING_DIR,\n",
        "                                                      batch_size=40,\n",
        "                                                      class_mode='binary',\n",
        "                                                      target_size=(150, 150))\n",
        "\n",
        "  # Instantiate the ImageDataGenerator class \n",
        "    validation_datagen = ImageDataGenerator( rescale = 1.0/255. )\n",
        "    validation_generator = validation_datagen.flow_from_directory(directory=VALIDATION_DIR,\n",
        "                                                                batch_size=40,\n",
        "                                                                class_mode='binary',\n",
        "                                                                target_size=(150, 150))\n",
        "  \n",
        "    return train_generator, validation_generator"
      ],
      "metadata": {
        "id": "CvpuSh2EkXWC"
      },
      "execution_count": 18,
      "outputs": []
    },
    {
      "cell_type": "code",
      "source": [
        "train_generator, validation_generator = train_val_generators(TRAINING_DIR, VALIDATION_DIR)"
      ],
      "metadata": {
        "colab": {
          "base_uri": "https://localhost:8080/"
        },
        "id": "j0LM8pYIkZud",
        "outputId": "6eba5a8e-b420-4585-c176-f26d7ecd8785"
      },
      "execution_count": 19,
      "outputs": [
        {
          "output_type": "stream",
          "name": "stdout",
          "text": [
            "Found 9253 images belonging to 2 classes.\n",
            "Found 1030 images belonging to 2 classes.\n"
          ]
        }
      ]
    },
    {
      "cell_type": "code",
      "source": [
        "from tensorflow.keras.optimizers import RMSprop\n",
        "\n",
        "def create_model():\n",
        "    model = tf.keras.models.Sequential([ \n",
        "    tf.keras.layers.Conv2D(16, (3,3), activation='relu', input_shape=(150, 150, 3)),\n",
        "    tf.keras.layers.MaxPooling2D(2,2),\n",
        "    tf.keras.layers.Conv2D(32, (3,3), activation='relu'),\n",
        "    tf.keras.layers.MaxPooling2D(2,2), \n",
        "    tf.keras.layers.Conv2D(64, (3,3), activation='relu'), \n",
        "    tf.keras.layers.MaxPooling2D(2,2),\n",
        "    # Flatten the results to feed into a DNN\n",
        "    tf.keras.layers.Flatten(), \n",
        "    # 512 neuron hidden layer\n",
        "    tf.keras.layers.Dense(512, activation='relu'), \n",
        "    tf.keras.layers.Dense(1, activation='sigmoid') \n",
        "  ])\n",
        "\n",
        "    model.summary()\n",
        "    model.compile(optimizer=RMSprop(learning_rate=0.001),\n",
        "                loss='binary_crossentropy',\n",
        "                metrics=['accuracy']) \n",
        "    return model"
      ],
      "metadata": {
        "id": "x8QD2lmZkdEn"
      },
      "execution_count": 20,
      "outputs": []
    },
    {
      "cell_type": "code",
      "source": [
        "# Get the untrained model\n",
        "model = create_model()\n",
        "\n",
        "# Time to train our model\n",
        "#This will take some time (around 45 minutes)\n",
        "history = model.fit(train_generator,\n",
        "                    epochs=15,\n",
        "                    verbose=1,\n",
        "                    validation_data=validation_generator)"
      ],
      "metadata": {
        "colab": {
          "base_uri": "https://localhost:8080/"
        },
        "id": "0k9vYwLWkfcb",
        "outputId": "01b35134-a8bd-4237-f2ac-8139da0abd41"
      },
      "execution_count": 21,
      "outputs": [
        {
          "output_type": "stream",
          "name": "stdout",
          "text": [
            "Model: \"sequential_1\"\n",
            "_________________________________________________________________\n",
            " Layer (type)                Output Shape              Param #   \n",
            "=================================================================\n",
            " conv2d_3 (Conv2D)           (None, 148, 148, 16)      448       \n",
            "                                                                 \n",
            " max_pooling2d_3 (MaxPooling  (None, 74, 74, 16)       0         \n",
            " 2D)                                                             \n",
            "                                                                 \n",
            " conv2d_4 (Conv2D)           (None, 72, 72, 32)        4640      \n",
            "                                                                 \n",
            " max_pooling2d_4 (MaxPooling  (None, 36, 36, 32)       0         \n",
            " 2D)                                                             \n",
            "                                                                 \n",
            " conv2d_5 (Conv2D)           (None, 34, 34, 64)        18496     \n",
            "                                                                 \n",
            " max_pooling2d_5 (MaxPooling  (None, 17, 17, 64)       0         \n",
            " 2D)                                                             \n",
            "                                                                 \n",
            " flatten_1 (Flatten)         (None, 18496)             0         \n",
            "                                                                 \n",
            " dense_2 (Dense)             (None, 512)               9470464   \n",
            "                                                                 \n",
            " dense_3 (Dense)             (None, 1)                 513       \n",
            "                                                                 \n",
            "=================================================================\n",
            "Total params: 9,494,561\n",
            "Trainable params: 9,494,561\n",
            "Non-trainable params: 0\n",
            "_________________________________________________________________\n",
            "Epoch 1/15\n",
            "232/232 [==============================] - 257s 1s/step - loss: 0.7081 - accuracy: 0.5141 - val_loss: 0.6931 - val_accuracy: 0.5058\n",
            "Epoch 2/15\n",
            "232/232 [==============================] - 243s 1s/step - loss: 0.6934 - accuracy: 0.4999 - val_loss: 0.6934 - val_accuracy: 0.4883\n",
            "Epoch 3/15\n",
            "232/232 [==============================] - 255s 1s/step - loss: 0.6934 - accuracy: 0.4986 - val_loss: 0.6932 - val_accuracy: 0.4951\n",
            "Epoch 4/15\n",
            "232/232 [==============================] - 240s 1s/step - loss: 0.6934 - accuracy: 0.4989 - val_loss: 0.6931 - val_accuracy: 0.5058\n",
            "Epoch 5/15\n",
            "232/232 [==============================] - 243s 1s/step - loss: 0.6932 - accuracy: 0.5033 - val_loss: 0.6931 - val_accuracy: 0.5058\n",
            "Epoch 6/15\n",
            "232/232 [==============================] - 242s 1s/step - loss: 0.6931 - accuracy: 0.5048 - val_loss: 0.6931 - val_accuracy: 0.5058\n",
            "Epoch 7/15\n",
            "232/232 [==============================] - 245s 1s/step - loss: 0.6931 - accuracy: 0.5057 - val_loss: 0.6931 - val_accuracy: 0.5058\n",
            "Epoch 8/15\n",
            "232/232 [==============================] - 239s 1s/step - loss: 0.6931 - accuracy: 0.5057 - val_loss: 0.6931 - val_accuracy: 0.5058\n",
            "Epoch 9/15\n",
            "232/232 [==============================] - 241s 1s/step - loss: 0.6931 - accuracy: 0.5057 - val_loss: 0.6931 - val_accuracy: 0.5058\n",
            "Epoch 10/15\n",
            "232/232 [==============================] - 243s 1s/step - loss: 0.6931 - accuracy: 0.5057 - val_loss: 0.6931 - val_accuracy: 0.5058\n",
            "Epoch 11/15\n",
            "232/232 [==============================] - 242s 1s/step - loss: 0.6931 - accuracy: 0.5057 - val_loss: 0.6931 - val_accuracy: 0.5058\n",
            "Epoch 12/15\n",
            "232/232 [==============================] - 238s 1s/step - loss: 0.6931 - accuracy: 0.5057 - val_loss: 0.6931 - val_accuracy: 0.5058\n",
            "Epoch 13/15\n",
            "232/232 [==============================] - 243s 1s/step - loss: 0.6931 - accuracy: 0.5057 - val_loss: 0.6931 - val_accuracy: 0.5058\n",
            "Epoch 14/15\n",
            "232/232 [==============================] - 244s 1s/step - loss: 0.6931 - accuracy: 0.5057 - val_loss: 0.6931 - val_accuracy: 0.5058\n",
            "Epoch 15/15\n",
            "232/232 [==============================] - 242s 1s/step - loss: 0.6931 - accuracy: 0.5057 - val_loss: 0.6931 - val_accuracy: 0.5058\n"
          ]
        }
      ]
    },
    {
      "cell_type": "code",
      "source": [
        "model.save(\"model1_catsVSdogs_10epoch.h5\")"
      ],
      "metadata": {
        "id": "J_tYpo0MEtd6"
      },
      "execution_count": 22,
      "outputs": []
    },
    {
      "cell_type": "code",
      "source": [
        "import pickle\n",
        "# create a binary pickle file for the history to be saved\n",
        "f = open(\"/kaggle/working/history.pkl\",\"wb\")\n",
        "\n",
        "# write the python object  to pickle file\n",
        "pickle.dump(history.history,f)\n",
        "\n",
        "# close file\n",
        "f.close()"
      ],
      "metadata": {
        "id": "sCxIsJjvE0zS"
      },
      "execution_count": 23,
      "outputs": []
    },
    {
      "cell_type": "code",
      "source": [
        "history = pd.read_pickle('/kaggle/working/history.pkl')"
      ],
      "metadata": {
        "id": "uyGTb87FE6hK"
      },
      "execution_count": 24,
      "outputs": []
    },
    {
      "cell_type": "code",
      "source": [
        "acc=history['accuracy']\n",
        "val_acc=history['val_accuracy']\n",
        "loss=history['loss']\n",
        "val_loss=history['val_loss']\n",
        "\n",
        "epochs=range(len(acc)) # Get number of epochs\n",
        "\n",
        "# Plot training and validation accuracy per epoch\n",
        "plt.plot(epochs, acc, 'r',label =  \"Training Accuracy\")\n",
        "plt.plot(epochs, val_acc, 'b', label = \"Validation Accuracy\")\n",
        "plt.title('Training and validation accuracy')\n",
        "plt.legend()\n",
        "plt.xlabel('Number of epochs')\n",
        "plt.ylabel('Accuracy')\n",
        "plt.show()\n",
        "print(\"\")\n",
        "\n",
        "# Plot training and validation loss per epoch\n",
        "plt.xlabel('Number of epochs')\n",
        "plt.ylabel('Loss')\n",
        "plt.plot(epochs, loss, 'r', label = \"Training Loss\")\n",
        "plt.plot(epochs, val_loss, 'b', label = \"Validation Loss\")\n",
        "plt.legend()\n",
        "plt.show()"
      ],
      "metadata": {
        "colab": {
          "base_uri": "https://localhost:8080/",
          "height": 574
        },
        "id": "SL88GIFhE-pY",
        "outputId": "542ccb8e-2e21-4115-d64a-072e4fb69e92"
      },
      "execution_count": 25,
      "outputs": [
        {
          "output_type": "display_data",
          "data": {
            "text/plain": [
              "<Figure size 432x288 with 1 Axes>"
            ],
            "image/png": "[encoded data removed]"
          },
          "metadata": {
            "needs_background": "light"
          }
        },
        {
          "output_type": "stream",
          "name": "stdout",
          "text": [
            "\n"
          ]
        },
        {
          "output_type": "display_data",
          "data": {
            "text/plain": [
              "<Figure size 432x288 with 1 Axes>"
            ],
            "image/png": "[encoded data removed]"
          },
          "metadata": {
            "needs_background": "light"
          }
        }
      ]
    }
  ]
}