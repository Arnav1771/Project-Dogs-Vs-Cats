{
  "nbformat": 4,
  "nbformat_minor": 0,
  "metadata": {
    "colab": {
      "provenance": []
    },
    "kernelspec": {
      "name": "python3",
      "display_name": "Python 3"
    },
    "language_info": {
      "name": "python"
    }
  },
  "cells": [
    {
      "cell_type": "code",
      "execution_count": null,
      "metadata": {
        "id": "h_5j1ennWOZr"
      },
      "outputs": [],
      "source": [
        "import numpy as np # linear algebra\n",
        "import pandas as pd # data processing, CSV file I/O (e.g. pd.read_csv)\n",
        "import os\n",
        "import zipfile\n",
        "import random\n",
        "import shutil\n",
        "import tensorflow as tf\n",
        "from tensorflow.keras.preprocessing.image import ImageDataGenerator\n",
        "from shutil import copyfile\n",
        "import matplotlib.pyplot as plt\n",
        "# Input data files are available in the read-only \"../input/\" directory\n",
        "# For example, running this (by clicking run or pressing Shift+Enter) will list all files under the input directory\n",
        "\n",
        "import os\n",
        "#for dirname, _, filenames in os.walk('/kaggle/input'):\n",
        "    #for filename in filenames:\n",
        "        #print(os.path.join(dirname, filename))"
      ]
    },
    {
      "cell_type": "code",
      "source": [],
      "metadata": {
        "id": "7Jr7zySehcal"
      },
      "execution_count": null,
      "outputs": []
    },
    {
      "cell_type": "code",
      "source": [],
      "metadata": {
        "id": "evQt5Es4hmLO"
      },
      "execution_count": null,
      "outputs": []
    },
    {
      "cell_type": "code",
      "source": [
        "from google.colab import drive\n",
        "drive.mount('/content/drive/')\n"
      ],
      "metadata": {
        "colab": {
          "base_uri": "https://localhost:8080/"
        },
        "id": "_GPAFSwlWkQj",
        "outputId": "2d34e7bb-cb22-44cc-ceda-fadac3aad73f"
      },
      "execution_count": null,
      "outputs": [
        {
          "output_type": "stream",
          "name": "stdout",
          "text": [
            "Mounted at /content/drive/\n"
          ]
        }
      ]
    },
    {
      "cell_type": "code",
      "source": [
        "source_path = '/content/drive/MyDrive/cats vs dogs /ex cats vs dogs .file'\n",
        "\n",
        "source_path_dogs = os.path.join(source_path, 'Dog')\n",
        "source_path_cats = os.path.join(source_path, 'Cat')\n",
        "\n",
        "# Delete all non-image files \n",
        "!find /kaggle/working/microsoft-catsvsdogs-dataset/PetImages/ -type f ! -name \"*.jpg\" -exec rm {} +\n",
        "\n",
        "# Lets see how many files we have under each path\n",
        "print(f\"There are {len(os.listdir(source_path_dogs))} images of dogs.\")\n",
        "print(f\"There are {len(os.listdir(source_path_cats))} images of cats.\")"
      ],
      "metadata": {
        "colab": {
          "base_uri": "https://localhost:8080/"
        },
        "id": "lb7GoKVYW7PT",
        "outputId": "9a9008ab-0d15-49a2-b6f9-a6810edd77c6"
      },
      "execution_count": null,
      "outputs": [
        {
          "output_type": "stream",
          "name": "stdout",
          "text": [
            "find: ‘/kaggle/working/microsoft-catsvsdogs-dataset/PetImages/’: No such file or directory\n",
            "There are 106 images of dogs.\n",
            "There are 6278 images of cats.\n"
          ]
        }
      ]
    },
    {
      "cell_type": "code",
      "source": [
        "###This section creates respective folders which is going to be used later by ImageDataGenerator###\n",
        "\n",
        "#This will be our root directory for training and validation data\n",
        "root_dir = '/kaggle/working/microsoft-catsvsdogs-dataset/cats-v-dogs'\n",
        "# Empty directory to prevent FileExistsError if this piece of code is run several times\n",
        "if os.path.exists(root_dir):\n",
        "    shutil.rmtree(root_dir)\n",
        "\n",
        "#Make a training folder inside our root_dir\n",
        "train_dir = os.path.join(root_dir, 'training')\n",
        "os.makedirs(train_dir)\n",
        "#Make a validation folder inside our root_dir\n",
        "validation_dir = os.path.join(root_dir, 'validation')\n",
        "os.makedirs(validation_dir)\n",
        "\n",
        "# Directory with training cat/dog pictures\n",
        "train_cats_dir = os.path.join(train_dir, 'cats')\n",
        "os.makedirs(train_cats_dir)\n",
        "train_dogs_dir = os.path.join(train_dir, 'dogs')\n",
        "os.makedirs(train_dogs_dir)\n",
        "\n",
        "# Directory with validation cat/dog pictures\n",
        "validation_cats_dir = os.path.join(validation_dir, 'cats')\n",
        "os.makedirs(validation_cats_dir)\n",
        "validation_dogs_dir = os.path.join(validation_dir, 'dogs')\n",
        "os.makedirs(validation_dogs_dir)"
      ],
      "metadata": {
        "id": "gwPTzambXo0L"
      },
      "execution_count": null,
      "outputs": []
    },
    {
      "cell_type": "code",
      "source": [
        "###In this section we are going to split our data into test and validation sets.\n",
        "#We define a function which will later be called for cats and dogs seperately\n",
        "def split_data(SOURCE_DIR, TRAINING_DIR, VALIDATION_DIR):\n",
        "    #Get a list of all the file names\n",
        "    images = list(file for file in os.listdir(SOURCE_DIR) if os.path.isfile(os.path.join(SOURCE_DIR, file)))\n",
        "    for file in images:\n",
        "        #Check to see if the file size is zero, then ignore those\n",
        "        if os.path.getsize(os.path.join(SOURCE_DIR, file)) == 0:\n",
        "            print(file,' is zero length, so ignoring.')\n",
        "            images.remove(file)\n",
        "    #Now that we have our image filenames, we randomly shuffle them to be used for validation and training\n",
        "    images = random.sample(images, len(images))\n",
        "    #In this section, I decided to split data with the following ratio: 10% validation data, 90% training data. I first populate validation data \n",
        "    for i in range(len(images)):\n",
        "        if i < len(images) *(0.1) :\n",
        "            copyfile(os.path.join(SOURCE_DIR, images[i]), os.path.join(VALIDATION_DIR, images[i]))\n",
        "        else:\n",
        "            copyfile(os.path.join(SOURCE_DIR, images[i]), os.path.join(TRAINING_DIR, images[i]))"
      ],
      "metadata": {
        "id": "oHI_KF9_YXm7"
      },
      "execution_count": null,
      "outputs": []
    },
    {
      "cell_type": "code",
      "source": [
        "# Define paths\n",
        "CAT_SOURCE_DIR = \"/content/drive/MyDrive/cats vs dogs /ex cats vs dogs .file/Cat\"\n",
        "DOG_SOURCE_DIR = \"/content/drive/MyDrive/cats vs dogs /ex cats vs dogs .file/Dog\"\n",
        "\n",
        "TRAINING_DIR = \"/kaggle/working/microsoft-catsvsdogs-dataset/cats-v-dogs/training\"\n",
        "VALIDATION_DIR = \"/kaggle/working/microsoft-catsvsdogs-dataset/cats-v-dogs/validation\"\n",
        "\n",
        "TRAINING_CATS_DIR = os.path.join(TRAINING_DIR, \"cats/\")\n",
        "VALIDATION_CATS_DIR = os.path.join(VALIDATION_DIR, \"cats/\")\n",
        "\n",
        "TRAINING_DOGS_DIR = os.path.join(TRAINING_DIR, \"dogs/\")\n",
        "VALIDATION_DOGS_DIR = os.path.join(VALIDATION_DIR, \"dogs/\")\n",
        "\n",
        "# Empty directories in case you run this cell multiple times\n",
        "if len(os.listdir(TRAINING_CATS_DIR)) > 0:\n",
        "    for file in os.scandir(TRAINING_CATS_DIR):\n",
        "        os.remove(file.path)\n",
        "if len(os.listdir(TRAINING_DOGS_DIR)) > 0:\n",
        "    for file in os.scandir(TRAINING_DOGS_DIR):\n",
        "        os.remove(file.path)\n",
        "if len(os.listdir(VALIDATION_CATS_DIR)) > 0:\n",
        "    for file in os.scandir(VALIDATION_CATS_DIR):\n",
        "        os.remove(file.path)\n",
        "if len(os.listdir(VALIDATION_DOGS_DIR)) > 0:\n",
        "    for file in os.scandir(VALIDATION_DOGS_DIR):\n",
        "        os.remove(file.path)\n",
        "\n",
        "\n",
        "# Run the function\n",
        "split_data(CAT_SOURCE_DIR, TRAINING_CATS_DIR, VALIDATION_CATS_DIR)\n",
        "split_data(DOG_SOURCE_DIR, TRAINING_DOGS_DIR, VALIDATION_DOGS_DIR)\n",
        "\n",
        "print(f\"\\n\\nOriginal cat's directory has {len(os.listdir(CAT_SOURCE_DIR))} images\")\n",
        "print(f\"Original dog's directory has {len(os.listdir(DOG_SOURCE_DIR))} images\\n\")\n",
        "\n",
        "# Training and validation splits\n",
        "print(f\"There are {len(os.listdir(TRAINING_CATS_DIR))} images of cats for training\")\n",
        "print(f\"There are {len(os.listdir(TRAINING_DOGS_DIR))} images of dogs for training\")\n",
        "print(f\"There are {len(os.listdir(VALIDATION_CATS_DIR))} images of cats for validation\")\n",
        "print(f\"There are {len(os.listdir(VALIDATION_DOGS_DIR))} images of dogs for validation\")\n"
      ],
      "metadata": {
        "colab": {
          "base_uri": "https://localhost:8080/"
        },
        "id": "cyFrG6-FYqMA",
        "outputId": "c5d98af6-f234-4043-c380-3484f6be65b7"
      },
      "execution_count": null,
      "outputs": [
        {
          "output_type": "stream",
          "name": "stdout",
          "text": [
            "\n",
            "\n",
            "Original cat's directory has 6278 images\n",
            "Original dog's directory has 106 images\n",
            "\n",
            "There are 5650 images of cats for training\n",
            "There are 95 images of dogs for training\n",
            "There are 628 images of cats for validation\n",
            "There are 11 images of dogs for validation\n"
          ]
        }
      ]
    },
    {
      "cell_type": "code",
      "source": [
        "# After successfully organizing and splitting the data into training and validation sets in their respective folders, it is time for to code the  ImageDataGenerator that will yield batches of images. \n",
        "\n",
        "#Images in this dataset are of different sizes, that is why we use  parameter target_size for 'flow_from_directory' method to standarize \n",
        "\n",
        "def train_val_generators(TRAINING_DIR, VALIDATION_DIR):\n",
        "\n",
        "  # Instantiate the ImageDataGenerator class \n",
        "    train_datagen = ImageDataGenerator( rescale = 1.0/255. ) \n",
        "    train_generator = train_datagen.flow_from_directory(directory=TRAINING_DIR,\n",
        "                                                      batch_size=40,\n",
        "                                                      class_mode='binary',\n",
        "                                                      target_size=(150, 150))\n",
        "\n",
        "  # Instantiate the ImageDataGenerator class \n",
        "    validation_datagen = ImageDataGenerator( rescale = 1.0/255. )\n",
        "    validation_generator = validation_datagen.flow_from_directory(directory=VALIDATION_DIR,\n",
        "                                                                batch_size=40,\n",
        "                                                                class_mode='binary',\n",
        "                                                                target_size=(150, 150))\n",
        "  \n",
        "    return train_generator, validation_generator"
      ],
      "metadata": {
        "id": "0pioNmyMai4O"
      },
      "execution_count": null,
      "outputs": []
    },
    {
      "cell_type": "code",
      "source": [
        "train_generator, validation_generator = train_val_generators(TRAINING_DIR, VALIDATION_DIR)"
      ],
      "metadata": {
        "colab": {
          "base_uri": "https://localhost:8080/"
        },
        "id": "yy7QSHtiary2",
        "outputId": "267816ec-006d-4e75-99a1-8deba4c91eea"
      },
      "execution_count": null,
      "outputs": [
        {
          "output_type": "stream",
          "name": "stdout",
          "text": [
            "Found 5743 images belonging to 2 classes.\n",
            "Found 639 images belonging to 2 classes.\n"
          ]
        }
      ]
    },
    {
      "cell_type": "code",
      "source": [
        "from tensorflow.keras.optimizers import RMSprop\n",
        "\n",
        "def create_model():\n",
        "    model = tf.keras.models.Sequential([ \n",
        "    tf.keras.layers.Conv2D(16, (3,3), activation='relu', input_shape=(150, 150, 3)),\n",
        "    tf.keras.layers.MaxPooling2D(2,2),\n",
        "    tf.keras.layers.Conv2D(32, (3,3), activation='relu'),\n",
        "    tf.keras.layers.MaxPooling2D(2,2), \n",
        "    tf.keras.layers.Conv2D(64, (3,3), activation='relu'), \n",
        "    tf.keras.layers.MaxPooling2D(2,2),\n",
        "    # Flatten the results to feed into a DNN\n",
        "    tf.keras.layers.Flatten(), \n",
        "    # 512 neuron hidden layer\n",
        "    tf.keras.layers.Dense(512, activation='relu'), \n",
        "    tf.keras.layers.Dense(1, activation='sigmoid') \n",
        "  ])\n",
        "\n",
        "    model.summary()\n",
        "    model.compile(optimizer=RMSprop(learning_rate=0.001),\n",
        "                loss='binary_crossentropy',\n",
        "                metrics=['accuracy']) \n",
        "    return model"
      ],
      "metadata": {
        "id": "o0QZpGrca5cr"
      },
      "execution_count": null,
      "outputs": []
    },
    {
      "cell_type": "code",
      "source": [
        "# Get the untrained model\n",
        "model = create_model()\n",
        "\n",
        "# Time to train our model\n",
        "#This will take some time (around 45 minutes)\n",
        "history = model.fit(train_generator,\n",
        "                    epochs=15,\n",
        "                    verbose=1,\n",
        "                    validation_data=validation_generator)"
      ],
      "metadata": {
        "colab": {
          "base_uri": "https://localhost:8080/"
        },
        "id": "mNelnKa7a_Kv",
        "outputId": "b3512cf4-f27c-4bac-a931-6bbc3b13b2e6"
      },
      "execution_count": 12,
      "outputs": [
        {
          "output_type": "stream",
          "name": "stdout",
          "text": [
            "Model: \"sequential\"\n",
            "_________________________________________________________________\n",
            " Layer (type)                Output Shape              Param #   \n",
            "=================================================================\n",
            " conv2d (Conv2D)             (None, 148, 148, 16)      448       \n",
            "                                                                 \n",
            " max_pooling2d (MaxPooling2D  (None, 74, 74, 16)       0         \n",
            " )                                                               \n",
            "                                                                 \n",
            " conv2d_1 (Conv2D)           (None, 72, 72, 32)        4640      \n",
            "                                                                 \n",
            " max_pooling2d_1 (MaxPooling  (None, 36, 36, 32)       0         \n",
            " 2D)                                                             \n",
            "                                                                 \n",
            " conv2d_2 (Conv2D)           (None, 34, 34, 64)        18496     \n",
            "                                                                 \n",
            " max_pooling2d_2 (MaxPooling  (None, 17, 17, 64)       0         \n",
            " 2D)                                                             \n",
            "                                                                 \n",
            " flatten (Flatten)           (None, 18496)             0         \n",
            "                                                                 \n",
            " dense (Dense)               (None, 512)               9470464   \n",
            "                                                                 \n",
            " dense_1 (Dense)             (None, 1)                 513       \n",
            "                                                                 \n",
            "=================================================================\n",
            "Total params: 9,494,561\n",
            "Trainable params: 9,494,561\n",
            "Non-trainable params: 0\n",
            "_________________________________________________________________\n",
            "Epoch 1/15\n",
            "144/144 [==============================] - 102s 695ms/step - loss: 0.1228 - accuracy: 0.9836 - val_loss: 0.0899 - val_accuracy: 0.9828\n",
            "Epoch 2/15\n",
            "144/144 [==============================] - 101s 699ms/step - loss: 0.0946 - accuracy: 0.9836 - val_loss: 0.1065 - val_accuracy: 0.9828\n",
            "Epoch 3/15\n",
            "144/144 [==============================] - 95s 656ms/step - loss: 0.0936 - accuracy: 0.9836 - val_loss: 0.0832 - val_accuracy: 0.9828\n",
            "Epoch 4/15\n",
            "144/144 [==============================] - 101s 702ms/step - loss: 0.0888 - accuracy: 0.9836 - val_loss: 0.0797 - val_accuracy: 0.9828\n",
            "Epoch 5/15\n",
            "144/144 [==============================] - 95s 661ms/step - loss: 0.0781 - accuracy: 0.9836 - val_loss: 0.1032 - val_accuracy: 0.9828\n",
            "Epoch 6/15\n",
            "144/144 [==============================] - 99s 691ms/step - loss: 0.0770 - accuracy: 0.9836 - val_loss: 0.0849 - val_accuracy: 0.9828\n",
            "Epoch 7/15\n",
            "144/144 [==============================] - 97s 676ms/step - loss: 0.0666 - accuracy: 0.9836 - val_loss: 0.0850 - val_accuracy: 0.9828\n",
            "Epoch 8/15\n",
            "144/144 [==============================] - 102s 709ms/step - loss: 0.0643 - accuracy: 0.9836 - val_loss: 0.0968 - val_accuracy: 0.9828\n",
            "Epoch 9/15\n",
            "144/144 [==============================] - 96s 662ms/step - loss: 0.0625 - accuracy: 0.9838 - val_loss: 0.0844 - val_accuracy: 0.9828\n",
            "Epoch 10/15\n",
            "144/144 [==============================] - 96s 666ms/step - loss: 0.0551 - accuracy: 0.9838 - val_loss: 0.0959 - val_accuracy: 0.9828\n",
            "Epoch 11/15\n",
            "144/144 [==============================] - 95s 658ms/step - loss: 0.0521 - accuracy: 0.9845 - val_loss: 0.2271 - val_accuracy: 0.9828\n",
            "Epoch 12/15\n",
            "144/144 [==============================] - 96s 665ms/step - loss: 0.0515 - accuracy: 0.9857 - val_loss: 0.1049 - val_accuracy: 0.9828\n",
            "Epoch 13/15\n",
            "144/144 [==============================] - 96s 665ms/step - loss: 0.0419 - accuracy: 0.9871 - val_loss: 0.1537 - val_accuracy: 0.9828\n",
            "Epoch 14/15\n",
            "144/144 [==============================] - 98s 677ms/step - loss: 0.0348 - accuracy: 0.9883 - val_loss: 0.1338 - val_accuracy: 0.9844\n",
            "Epoch 15/15\n",
            "144/144 [==============================] - 94s 655ms/step - loss: 0.0355 - accuracy: 0.9883 - val_loss: 0.1597 - val_accuracy: 0.9844\n"
          ]
        }
      ]
    },
    {
      "cell_type": "code",
      "source": [
        "model.save(\"model1_catsVSdogs_10epoch.h5\")"
      ],
      "metadata": {
        "id": "IBSAahHnhnTr"
      },
      "execution_count": 13,
      "outputs": []
    },
    {
      "cell_type": "code",
      "source": [
        "import pickle\n",
        "# create a binary pickle file for the history to be saved\n",
        "f = open(\"/kaggle/working/history.pkl\",\"wb\")\n",
        "\n",
        "# write the python object  to pickle file\n",
        "pickle.dump(history.history,f)\n",
        "\n",
        "# close file\n",
        "f.close()"
      ],
      "metadata": {
        "id": "lP4QU9lwiNYk"
      },
      "execution_count": 15,
      "outputs": []
    },
    {
      "cell_type": "code",
      "source": [
        "history = pd.read_pickle('/kaggle/working/history.pkl')"
      ],
      "metadata": {
        "id": "rHOCUahxiXE7"
      },
      "execution_count": 16,
      "outputs": []
    },
    {
      "cell_type": "code",
      "source": [
        "acc=history['accuracy']\n",
        "val_acc=history['val_accuracy']\n",
        "loss=history['loss']\n",
        "val_loss=history['val_loss']\n",
        "\n",
        "epochs=range(len(acc)) # Get number of epochs\n",
        "\n",
        "# Plot training and validation accuracy per epoch\n",
        "plt.plot(epochs, acc, 'r',label =  \"Training Accuracy\")\n",
        "plt.plot(epochs, val_acc, 'b', label = \"Validation Accuracy\")\n",
        "plt.title('Training and validation accuracy')\n",
        "plt.legend()\n",
        "plt.xlabel('Number of epochs')\n",
        "plt.ylabel('Accuracy')\n",
        "plt.show()\n",
        "print(\"\")\n",
        "\n",
        "# Plot training and validation loss per epoch\n",
        "plt.xlabel('Number of epochs')\n",
        "plt.ylabel('Loss')\n",
        "plt.plot(epochs, loss, 'r', label = \"Training Loss\")\n",
        "plt.plot(epochs, val_loss, 'b', label = \"Validation Loss\")\n",
        "plt.legend()\n",
        "plt.show()"
      ],
      "metadata": {
        "colab": {
          "base_uri": "https://localhost:8080/",
          "height": 574
        },
        "id": "sLKjShQcieqA",
        "outputId": "90b74642-2b2c-4310-bd95-ddca7395b213"
      },
      "execution_count": 17,
      "outputs": [
        {
          "output_type": "display_data",
          "data": {
            "text/plain": [
              "<Figure size 432x288 with 1 Axes>"
            ],
            "image/png": "[encoded data removed]"
          },
          "metadata": {
            "needs_background": "light"
          }
        },
        {
          "output_type": "stream",
          "name": "stdout",
          "text": [
            "\n"
          ]
        },
        {
          "output_type": "display_data",
          "data": {
            "text/plain": [
              "<Figure size 432x288 with 1 Axes>"
            ],
            "image/png": "[encoded data removed]"
          },
          "metadata": {
            "needs_background": "light"
          }
        }
      ]
    }
  ]
}